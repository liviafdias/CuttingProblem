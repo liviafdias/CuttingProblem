{
 "cells": [
  {
   "cell_type": "markdown",
   "metadata": {},
   "source": [
    "IMPORTS"
   ]
  },
  {
   "cell_type": "code",
   "execution_count": 21,
   "metadata": {},
   "outputs": [],
   "source": [
    "from ortools.linear_solver import pywraplp"
   ]
  },
  {
   "cell_type": "code",
   "execution_count": 22,
   "metadata": {},
   "outputs": [],
   "source": [
    "# valores -> lista dos tamanhos de cada tipo de item\n",
    "# valor_maximo -> tamanho da barra (a soma das combinações não pode ultrapassar)\n",
    "# menor_valor -> menor tamanho da lista \"valores\" -> valor da restrição \n",
    "# combinacao_atual-> uma lista com as combinação de itens atuais\n",
    "# inicio -> indice de inicio\n",
    "# resultados -> lista vazia que armazenará todos os resultados válidos \n",
    "\n",
    "# Função que calcula as combinações válidas (a restrição de soma máxima e a diferença mínima)\n",
    "def explorar_combinacoes(valores, valor_maximo, menor_valor, combinacao_atual, inicio, resultados):\n",
    "\n",
    "    soma_atual = sum(combinacao_atual)\n",
    "    \n",
    "    if soma_atual <= valor_maximo and (valor_maximo - soma_atual) < menor_valor:\n",
    "        padrao = []\n",
    "        # conta quantas vezes cada tamanho apareceu naquele padrão\n",
    "        for valor in valores:\n",
    "            padrao.append(combinacao_atual.count(valor))\n",
    "        resultados.append(padrao)\n",
    "    # se a soma ultrapassar o valor máximo, para e o padrão não é adicionado aos resultados   \n",
    "    elif soma_atual > valor_maximo:\n",
    "        return\n",
    "\n",
    "    # se não, continuamos a adicionar elementos para formar novas combinações\n",
    "    for i in range(inicio, len(valores)):\n",
    "        combinacao_atual.append(valores[i])\n",
    "        explorar_combinacoes(valores, valor_maximo, menor_valor, combinacao_atual, i, resultados)\n",
    "        combinacao_atual.pop()  # Remove o último elemento para explorar outras combinações"
   ]
  },
  {
   "cell_type": "code",
   "execution_count": 23,
   "metadata": {},
   "outputs": [],
   "source": [
    "# valores -> lista dos tamanhos de cada tipo de item\n",
    "# valor_maximo -> tamanho da barra (a soma das combinações não pode ultrapassar)\n",
    "\n",
    "# função gerdora das combinações válidas \n",
    "def encontrar_combinacoes_soma_maxima(valores, valor_maximo):\n",
    "\n",
    "    resultados = []\n",
    "    menor_valor = min(valores)  # menor tamanho da lista \"valores\" -> valor da restrição\n",
    "\n",
    "    # calcula as combinações\n",
    "    explorar_combinacoes(valores, valor_maximo, menor_valor, [], 0, resultados)\n",
    "    return resultados"
   ]
  },
  {
   "cell_type": "code",
   "execution_count": 24,
   "metadata": {},
   "outputs": [],
   "source": [
    "# comprimento_barra -> comprimento máximo da barra.\n",
    "# tamanhos_itens -> lista de tamanhos de itens.\n",
    "# quantidades_itens -> lista de quantidades demandadas de cada item.\n",
    "\n",
    "# Função main\n",
    "def minimizar_desperdicio(comprimento_barra, tamanhos_itens, quantidades_itens):\n",
    "    \n",
    "    # gera todos os padrões de corte válidos\n",
    "    padroes = encontrar_combinacoes_soma_maxima(tamanhos_itens, comprimento_barra)\n",
    "\n",
    "    # calculo do desperdício de cada padrão\n",
    "    desperdicio_por_padrao = []\n",
    "    for padrao in padroes:\n",
    "        comprimento_utilizado = 0\n",
    "        for i in range(len(tamanhos_itens)):\n",
    "            comprimento_utilizado += padrao[i] * tamanhos_itens[i]\n",
    "        desperdicio_por_padrao.append(comprimento_barra - comprimento_utilizado)\n",
    "\n",
    "    # declara o solver\n",
    "    solver = pywraplp.Solver.CreateSolver('SCIP')\n",
    "\n",
    "    # declara as varriáveis de decisão para cada padrão de corte\n",
    "    variaveis_decisao = []\n",
    "    for j in range(len(padroes)):\n",
    "        variavel = solver.IntVar(0, solver.infinity(), f'x[{j}]')\n",
    "        variaveis_decisao.append(variavel)\n",
    "\n",
    "    # declara a função objetivo\n",
    "    funcao_objetivo = 0\n",
    "    for j in range(len(padroes)):\n",
    "        funcao_objetivo += desperdicio_por_padrao[j] * variaveis_decisao[j]\n",
    "    solver.Minimize(funcao_objetivo)\n",
    "\n",
    "    # declara as restrições para atender à demanda de cada tipo de item\n",
    "    for i in range(len(tamanhos_itens)):\n",
    "        demanda = 0\n",
    "        for j in range(len(padroes)):\n",
    "            demanda += padroes[j][i] * variaveis_decisao[j]\n",
    "        solver.Add(demanda >= quantidades_itens[i])\n",
    "\n",
    "    # resolve o modelo\n",
    "    status = solver.Solve()\n",
    "\n",
    "    if status == pywraplp.Solver.OPTIMAL:\n",
    "\n",
    "        desperdicio_total = 0\n",
    "        for j in range(len(padroes)):\n",
    "            quantidade_usada = int(variaveis_decisao[j].solution_value())\n",
    "            desperdicio_padrao = desperdicio_por_padrao[j] * quantidade_usada\n",
    "            desperdicio_total += desperdicio_padrao\n",
    "        print('Desperdício total: ', desperdicio_total)\n",
    "\n",
    "        print('Padrões de corte utilizados:')\n",
    "        for j in range(len(padroes)):\n",
    "            quantidade_usada = int(variaveis_decisao[j].solution_value())\n",
    "            if quantidade_usada > 0:\n",
    "                print(f'Padrão {j + 1}: {padroes[j]}, usado {quantidade_usada} vezes')\n",
    "        \n",
    "    else:\n",
    "        print('Modelo sem solução ótima.')"
   ]
  },
  {
   "cell_type": "code",
   "execution_count": 25,
   "metadata": {},
   "outputs": [
    {
     "name": "stdout",
     "output_type": "stream",
     "text": [
      "Desperdício total:  1000\n",
      "Padrões de corte utilizados:\n",
      "Padrão 1: [1, 1, 0], usado 100 vezes\n",
      "Padrão 5: [0, 0, 3], usado 40 vezes\n"
     ]
    }
   ],
   "source": [
    "#  Coletando entradas do usuário\n",
    "comprimento_barra = int(input(\"Informe o comprimento da barra: \"))\n",
    "quantidade_tipos_itens = int(input(\"Informe a quantidade de tipos de itens: \"))\n",
    "\n",
    "# Leitura dos tamanhos dos itens em uma única linha\n",
    "tamanhos_itens = list(map(int, input(\"Informe os tamanhos dos itens, separados por espaço: \").split()))\n",
    "\n",
    "# Leitura das quantidades necessárias em uma única linha\n",
    "quantidades_itens = list(map(int, input(\"Informe as quantidades necessárias de cada item, separadas por espaço: \").split()))\n",
    "\n",
    "# Valida o número de entradas\n",
    "if len(tamanhos_itens) != quantidade_tipos_itens or len(quantidades_itens) != quantidade_tipos_itens:\n",
    "    print(\"Erro: A quantidade de tipos de itens não corresponde ao número de tamanhos e quantidades informados.\")\n",
    "else:\n",
    "    # Executa a função de minimização com as entradas do usuário\n",
    "    minimizar_desperdicio(comprimento_barra, tamanhos_itens, quantidades_itens)\n"
   ]
  }
 ],
 "metadata": {
  "kernelspec": {
   "display_name": "Python 3",
   "language": "python",
   "name": "python3"
  },
  "language_info": {
   "codemirror_mode": {
    "name": "ipython",
    "version": 3
   },
   "file_extension": ".py",
   "mimetype": "text/x-python",
   "name": "python",
   "nbconvert_exporter": "python",
   "pygments_lexer": "ipython3",
   "version": "3.12.1"
  }
 },
 "nbformat": 4,
 "nbformat_minor": 2
}
